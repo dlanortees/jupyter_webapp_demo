{
 "cells": [
  {
   "cell_type": "code",
   "execution_count": 20,
   "id": "5531133a",
   "metadata": {},
   "outputs": [],
   "source": [
    "#pip install widgetsnbextension\n",
    "#pip install ipywidgets\n",
    "#pip install voila\n",
    "#pip install jupyter"
   ]
  },
  {
   "cell_type": "code",
   "execution_count": 2,
   "id": "1711e29e",
   "metadata": {},
   "outputs": [],
   "source": [
    "#!jupyter-nbextension enable --py widgetsnbextension --sys-prefix\n",
    "#!jupyter-serverextension enable voila --sys-prefix"
   ]
  },
  {
   "cell_type": "code",
   "execution_count": 3,
   "id": "2597c424",
   "metadata": {},
   "outputs": [],
   "source": [
    "import ipywidgets as widgets\n",
    "from IPython.display import display, clear_output"
   ]
  },
  {
   "cell_type": "code",
   "execution_count": 9,
   "id": "eef18676",
   "metadata": {},
   "outputs": [],
   "source": [
    "grand = widgets.ToggleButtons(\n",
    "    options=['grandson', 'granddaughter']\n",
    ")\n",
    "name = widgets.Text(placeholder='Your name here')\n",
    "date = widgets.DatePicker(description='Pick a Date')\n",
    "friends = widgets.IntSlider(\n",
    "    value=3, \n",
    "    min=0, \n",
    "    max=10,\n",
    "    step=1,\n",
    "    style={'description_width': 'initial' }\n",
    ")\n",
    "\n",
    "button_send = widgets.Button(\n",
    "    description='Send to grandma',\n",
    "    tooltip='Send',\n",
    "    style={'description_width': 'initial'}\n",
    ")\n",
    "\n",
    "output = widgets.Output()\n",
    "\n",
    "def on_button_clicked(event):\n",
    "    with output:\n",
    "        clear_output()\n",
    "        print(\"Sent message: \")\n",
    "        print(f\"Dear Grandma! This is your favourite {grand.value}, {name.value}.\")\n",
    "        print(f\"I would love to come over on {date.value} for dinner, if that's okay for you!\")\n",
    "        print(f\"Also, if you don't mind, I'll bring along {friends.value} hungry ghosts for your delicious food!\")\n",
    "\n",
    "button_send.on_click(on_button_clicked)\n",
    "\n",
    "vbox_result = widgets.VBox([button_send, output])"
   ]
  },
  {
   "cell_type": "code",
   "execution_count": 11,
   "id": "d5ca122d",
   "metadata": {},
   "outputs": [],
   "source": [
    "# stacked right hand side\n",
    "\n",
    "text_0 = widgets.HTML(value=\"Dear Grandma!\")\n",
    "text_1 = widgets.HTML(value=\"This is your favourite\")\n",
    "text_2= widgets.HTML(value=\"I would love to come over on \")\n",
    "text_3= widgets.HTML(value=\"for dinner, if that's okay for you!\")\n",
    "text_4= widgets.HTML(value=\"Also, if you don't mind, I'll bring along \")\n",
    "text_5= widgets.HTML(value=\"hungry ghosts for dinner, if that's okay for you!\")\n",
    "\n",
    "vbox_text = widgets.VBox([text_0, text_1, grand, name, text_2, date, text_3, text_4, friends, text_5, vbox_result])"
   ]
  },
  {
   "cell_type": "code",
   "execution_count": 12,
   "id": "498e62d8",
   "metadata": {},
   "outputs": [
    {
     "data": {
      "application/vnd.jupyter.widget-view+json": {
       "model_id": "ae3bcdfc83f948d593e9ee5b1ebf512c",
       "version_major": 2,
       "version_minor": 0
      },
      "text/plain": [
       "HBox(children=(VBox(children=(HTML(value='Dear Grandma!'), HTML(value='This is your favourite'), ToggleButtons…"
      ]
     },
     "metadata": {},
     "output_type": "display_data"
    }
   ],
   "source": [
    "page = widgets.HBox([vbox_text])\n",
    "display(page)"
   ]
  },
  {
   "cell_type": "code",
   "execution_count": null,
   "id": "8a200437",
   "metadata": {},
   "outputs": [],
   "source": []
  }
 ],
 "metadata": {
  "kernelspec": {
   "display_name": "Python 3 (ipykernel)",
   "language": "python",
   "name": "python3"
  },
  "language_info": {
   "codemirror_mode": {
    "name": "ipython",
    "version": 3
   },
   "file_extension": ".py",
   "mimetype": "text/x-python",
   "name": "python",
   "nbconvert_exporter": "python",
   "pygments_lexer": "ipython3",
   "version": "3.8.8"
  }
 },
 "nbformat": 4,
 "nbformat_minor": 5
}
